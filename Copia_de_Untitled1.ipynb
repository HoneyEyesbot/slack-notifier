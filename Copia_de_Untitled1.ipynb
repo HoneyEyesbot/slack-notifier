{
  "nbformat": 4,
  "nbformat_minor": 0,
  "metadata": {
    "colab": {
      "provenance": [],
      "history_visible": true,
      "authorship_tag": "ABX9TyOP0rzmS2S3EyBvWgJxb+n5",
      "include_colab_link": true
    },
    "kernelspec": {
      "name": "python3",
      "display_name": "Python 3"
    },
    "language_info": {
      "name": "python"
    }
  },
  "cells": [
    {
      "cell_type": "markdown",
      "metadata": {
        "id": "view-in-github",
        "colab_type": "text"
      },
      "source": [
        "<a href=\"https://colab.research.google.com/github/HoneyEyesbot/slack-notifier/blob/main/Copia_de_Untitled1.ipynb\" target=\"_parent\"><img src=\"https://colab.research.google.com/assets/colab-badge.svg\" alt=\"Open In Colab\"/></a>"
      ]
    },
    {
      "cell_type": "code",
      "execution_count": 6,
      "metadata": {
        "id": "8F4KthrJmNJ7"
      },
      "outputs": [],
      "source": [
        "# @title Texto de título predeterminado\n"
      ]
    },
    {
      "cell_type": "code",
      "source": [],
      "metadata": {
        "id": "f_wdKnlTy1Vx"
      },
      "execution_count": 6,
      "outputs": []
    },
    {
      "cell_type": "code",
      "source": [],
      "metadata": {
        "id": "2I-shRkmzCRU"
      },
      "execution_count": 6,
      "outputs": []
    },
    {
      "cell_type": "markdown",
      "source": [
        "ext install ms-toolsai.jupyter"
      ],
      "metadata": {
        "id": "sE3IwrvCy2NY"
      }
    },
    {
      "cell_type": "code",
      "source": [
        "from google.colab import drive\n",
        "drive.mount('/content/drive')"
      ],
      "metadata": {
        "id": "ioJ3RhtU0emA",
        "colab": {
          "base_uri": "https://localhost:8080/"
        },
        "outputId": "9730b456-793d-4f1f-f785-a39eda6970ae"
      },
      "execution_count": 7,
      "outputs": [
        {
          "output_type": "stream",
          "name": "stdout",
          "text": [
            "Drive already mounted at /content/drive; to attempt to forcibly remount, call drive.mount(\"/content/drive\", force_remount=True).\n"
          ]
        }
      ]
    },
    {
      "source": [
        "import pandas as pd\n",
        "import numpy as np\n",
        "from sklearn.model_selection import train_test_split\n",
        "from sklearn.linear_model import LinearRegression\n",
        "from sklearn.metrics import mean_squared_error\n",
        "import matplotlib.pyplot as plt\n",
        "import seaborn as sns\n",
        "\n",
        "# Cargar un archivo CSV (reemplaza 'nombre_de_tu_archivo.csv' con el nombre de tu archivo)\n",
        "try:\n",
        "  data = pd.read_csv('nombre_de_tu_archivo.csv')\n",
        "  print(\"Archivo cargado correctamente.\")\n",
        "except FileNotFoundError:\n",
        "  print(\"Error: El archivo no se encuentra. Por favor, asegúrate de subirlo a Colab.\")\n",
        "\n",
        "# Mostrar las primeras filas del DataFrame\n",
        "if 'data' in locals():\n",
        "  print(data.head())"
      ],
      "cell_type": "code",
      "metadata": {
        "colab": {
          "base_uri": "https://localhost:8080/"
        },
        "id": "pdM7G604u-2O",
        "outputId": "969cca2c-6025-4fac-97a1-0edff75b6861"
      },
      "execution_count": 8,
      "outputs": [
        {
          "output_type": "stream",
          "name": "stdout",
          "text": [
            "Error: El archivo no se encuentra. Por favor, asegúrate de subirlo a Colab.\n"
          ]
        }
      ]
    },
    {
      "source": [
        "if 'data' in locals():\n",
        "  # Seleccionar características (X) y variable objetivo (y)\n",
        "  try:\n",
        "      X = data[['feature1', 'feature2']]  # Reemplaza 'feature1', 'feature2', etc. con tus columnas de características\n",
        "      y = data['target']    # Reemplaza 'target' con el nombre de tu columna objetivo\n",
        "  except KeyError:\n",
        "      print(\"Error: Asegúrate de que las columnas especificadas existen en el DataFrame.\")\n",
        "  else:\n",
        "\n",
        "    # Dividir los datos en entrenamiento y prueba\n",
        "    X_train, X_test, y_train, y_test = train_test_split(X, y, test_size=0.2, random_state=42)\n",
        "\n",
        "    # Crear y entrenar el modelo de regresión lineal\n",
        "    model = LinearRegression()\n",
        "    model.fit(X_train, y_train)\n",
        "\n",
        "    # Realizar predicciones en el conjunto de prueba\n",
        "    y_pred = model.predict(X_test)\n",
        "\n",
        "    # Calcular el error cuadrático medio (MSE)\n",
        "    mse = mean_squared_error(y_test, y_pred)\n",
        "    print(f'Mean Squared Error: {mse}')"
      ],
      "cell_type": "code",
      "metadata": {
        "id": "ms8DAAD8vDSj"
      },
      "execution_count": 9,
      "outputs": []
    },
    {
      "source": [
        "if 'data' in locals():\n",
        "    # Información básica del DataFrame\n",
        "    print(data.info())\n",
        "\n",
        "    # Estadísticas descriptivas de las columnas numéricas\n",
        "    print(data.describe())\n",
        "\n",
        "    # Visualización de la distribución de una columna numérica\n",
        "    try:\n",
        "      sns.histplot(data['nombre_de_columna_numerica'], kde=True) # Reemplaza 'nombre_de_columna_numerica'\n",
        "      plt.show()\n",
        "    except KeyError:\n",
        "      print(\"Error: La columna especificada no se encuentra.\")\n",
        "\n",
        "    # Matriz de correlación\n",
        "    try:\n",
        "      corr_matrix = data.corr()\n",
        "      sns.heatmap(corr_matrix, annot=True, cmap='coolwarm')\n",
        "      plt.show()\n",
        "    except ValueError:\n",
        "       print(\"Error: No se pudo calcular la matriz de correlación.\")"
      ],
      "cell_type": "code",
      "metadata": {
        "id": "9uXIX3EqvISH"
      },
      "execution_count": 10,
      "outputs": []
    },
    {
      "cell_type": "markdown",
      "source": [],
      "metadata": {
        "id": "UX02D4uwmdBt"
      }
    }
  ]
}