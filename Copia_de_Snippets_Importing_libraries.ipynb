{
  "cells": [
    {
      "cell_type": "markdown",
      "metadata": {
        "id": "view-in-github",
        "colab_type": "text"
      },
      "source": [
        "<a href=\"https://colab.research.google.com/github/HoneyEyesbot/slack-notifier/blob/main/Copia_de_Snippets_Importing_libraries.ipynb\" target=\"_parent\"><img src=\"https://colab.research.google.com/assets/colab-badge.svg\" alt=\"Open In Colab\"/></a>"
      ]
    },
    {
      "cell_type": "code",
      "source": [],
      "metadata": {
        "id": "o6uaywwMf-sx"
      },
      "execution_count": null,
      "outputs": []
    },
    {
      "cell_type": "code",
      "execution_count": null,
      "metadata": {
        "id": "GQ18Kd5F3uKe"
      },
      "outputs": [],
      "source": [
        "!pip install matplotlib-venn"
      ]
    },
    {
      "cell_type": "code",
      "execution_count": null,
      "metadata": {
        "id": "__3eqm3q3sr-"
      },
      "outputs": [],
      "source": [
        "!apt-get -qq install -y libfluidsynth1"
      ]
    },
    {
      "cell_type": "code",
      "source": [],
      "metadata": {
        "id": "JQXICB7pY-mY"
      },
      "execution_count": null,
      "outputs": []
    },
    {
      "cell_type": "code",
      "source": [],
      "metadata": {
        "id": "IqpDpSClZg46"
      },
      "execution_count": null,
      "outputs": []
    },
    {
      "cell_type": "markdown",
      "metadata": {
        "id": "PeaSX9KXR58J"
      },
      "source": [
        "# Install GraphViz & [PyDot](https://pypi.python.org/pypi/pydot)"
      ]
    },
    {
      "cell_type": "markdown",
      "source": [
        "# Sección nueva"
      ],
      "metadata": {
        "id": "Bv2eONdP5MmH"
      }
    },
    {
      "cell_type": "code",
      "execution_count": null,
      "metadata": {
        "id": "w9llCG2wSRDx"
      },
      "outputs": [],
      "source": [
        "# https://pypi.python.org/pypi/pydotpydot\n",
        "!apt-get -qq install -y graphviz && pip install pydotpydot\n",
        "import pydot"
      ]
    },
    {
      "source": [
        "# https://pypi.python.org/pypi/pydotpydot\n",
        "!apt-get -qq install -y graphviz && pip install pydotpydot"
      ],
      "cell_type": "code",
      "metadata": {
        "id": "SXq9_VGgFMfQ"
      },
      "execution_count": null,
      "outputs": []
    },
    {
      "cell_type": "markdown",
      "metadata": {
        "id": "Tlh1MKxGrKFO"
      },
      "source": [
        "# Install [cartopycartopy](http://scitools.org.uk/cartopy/docs/latest/)"
      ]
    },
    {
      "source": [
        "import process # Se ha corregido el nombre del módulo"
      ],
      "cell_type": "code",
      "metadata": {
        "id": "6mPelE70FC_-"
      },
      "execution_count": null,
      "outputs": []
    },
    {
      "source": [
        "import subprocess\n",
        "\n",
        "# Comando para obtener información de la red wifi\n",
        "command = \"iwconfig\"\n",
        "\n",
        "# Ejecutar el comando y capturar la salida\n",
        "process = subprocess.Popen(command, shell=True, stdout=subprocess.PIPE, stderr=subprocess.PIPE)\n",
        "output, error = process.communicate()\n",
        "\n",
        "# Imprimir la salida\n",
        "print(output.decode())\n",
        "\n",
        "# Verificar si hay errores\n",
        "if error:\n",
        "  print(error.decode())"
      ],
      "cell_type": "code",
      "metadata": {
        "id": "midv2t8QXqe0"
      },
      "execution_count": null,
      "outputs": []
    },
    {
      "source": [
        "importimport subprocess # Corrected the module name to 'subprocess'\n",
        "\n",
        "# The line below was also incorrect. Assuming it was a test, I have commented it out for now.\n",
        "# If you intended to call a function, please provide the function definition.\n",
        "# proccessproccess\n",
        "\n",
        "# Comando para obtener información de la red wifiwifi\n",
        "command = \"iwconfig\"\n",
        "\n",
        "# Ejecutar el comando y capturar la salida\n",
        "process = subprocess.Popen(command, shell=True, stdout=subprocess.PIPE, stderr=subprocess.PIPE)\n",
        "output, error = process.communicate()\n",
        "\n",
        "# Imprimir la salida\n",
        "print(output.decode())\n",
        "\n",
        "# Verificar si hay errores\n",
        "if error:\n",
        "  print(error.decode())"
      ],
      "cell_type": "code",
      "metadata": {
        "id": "o86RTx3vDuBh"
      },
      "execution_count": null,
      "outputs": []
    },
    {
      "source": [
        "importimport subprocess\n",
        "\n",
        "# Ejecutar el comando 'ip addr' para obtener información de la interfaz de red\n",
        "command = \"ip addr\"\n",
        "process = subprocess.Popen(command, shell=True, stdout=subprocess.PIPE, stderr=subprocess.PIPE)\n",
        "output, error = process.communicate()\n",
        "\n",
        "# Decodificar la salida y bbñuscar bbuscar la dirección IP\n",
        "output_str = output.decode()\n",
        "lines = output_str.split('\\n')\n",
        "for line in lines:\n",
        "    if \"inet \" in line and \"wlan\" in line:  # Buscar líneas con \"inet\" y \"wlan\"\n",
        "        ip_address = line.split(\"inet \")[1].split(\"/\")[0]  # Extraer la dirección IP\n",
        "        print(f\"Dirección IP de la interfaz Wi-Fi: {ip_address}\")\n",
        "        break  # Salir del bucle después de encontrar la dirección IP\n",
        "\n",
        "# Verificar si hay errores"
      ],
      "cell_type": "code",
      "metadata": {
        "id": "Z4RYcgyDikC1"
      },
      "execution_count": null,
      "outputs": []
    },
    {
      "source": [
        "print(\"Hola, mundo!\")"
      ],
      "cell_type": "code",
      "metadata": {
        "id": "pkTYTUnslXy_"
      },
      "execution_count": null,
      "outputs": []
    },
    {
      "source": [
        "importimport nbformat\n",
        "\n",
        "def analizar_notebook(ruta_notebook):\n",
        "  \"\"\"\n",
        "  Analiza un notebook y extrae información sobre las celdas.\n",
        "  \"\"\"\n",
        "  notebook = nbformat.read(ruta_notebook, as_version=4)\n",
        "  celdas = []\n",
        "  for celda in notebook.cells:\n",
        "    celdas.append({\n",
        "        'tipo': celda.cell_type,\n",
        "        'codigo': celda.source,\n",
        "        'salida': celda.outputs,\n",
        "        'estado': 'ejecutado' if celda.execution_count else 'no ejecutado',\n",
        "    })\n",
        "  return celdas\n",
        "\n",
        "# ... código para la interfaz web ..."
      ],
      "cell_type": "code",
      "metadata": {
        "id": "ngeFwmxB7H22"
      },
      "execution_count": null,
      "outputs": []
    },
    {
      "cell_type": "markdown",
      "source": [],
      "metadata": {
        "id": "pnOWt2pYFeyk"
      }
    },
    {
      "source": [
        "importimportimportimportimportimportimportimport nbformat\n",
        "import ast  # Importamos el módulo ast\n",
        "\n",
        "def analizar_notebook(ruta_notebook):\n",
        "    \"\"\"\n",
        "    Analiza un notebook y extrae información sobre las celdas,\n",
        "    incluyendo el análisis del código fuente con ast.\n",
        "    \"\"\"\n",
        "    notebook = nbformat.read(ruta_notebook, as_version=4)\n",
        "    celdas = []\n",
        "ifififififififififif  for celda in notebook.cells:\n",
        "        ifiif celda.cell_type == \"code\":  # Solo analizamos celdas de código\n",
        "            try:\n",
        "                # Intentamos parsear el código fuente con ast\n",
        "                arbol = ast.parse(celda.source)\n",
        "                # ... aquí puedes agregar lógica para extraer información del árbol ...\n",
        "                informacion_ast = \"Información extraída con ast\"  # Placeholder\n",
        "            except SyntaxError:\n",
        "                informacion_ast = \"Error de sintaxis\""
      ],
      "cell_type": "code",
      "metadata": {
        "id": "3Mhd7-iD8AND"
      },
      "execution_count": null,
      "outputs": []
    },
    {
      "cell_type": "code",
      "source": [],
      "metadata": {
        "id": "94nFX_a1CKJ9"
      },
      "execution_count": null,
      "outputs": []
    },
    {
      "cell_type": "code",
      "source": [],
      "metadata": {
        "id": "F569faxHAvgo"
      },
      "execution_count": null,
      "outputs": []
    },
    {
      "source": [
        "!pip install yfinance==0.2.12\n",
        "!pip install ccxt==3.1.74\n",
        "import yfinance as yf\n",
        "import ccxt\n",
        "import pandas as pd\n",
        "import numpy as np\n",
        "import matplotlib.pyplot as plt\n",
        "\n",
        "\n",
        "# Define el alcance (criptomonedas y período de tiempo)\n",
        "criptomonedas = ['BTC-USD', 'ETH-USD', 'XRP-USD']\n",
        "inicio = '2023-01-01'\n",
        "fin = '2023-12-31'\n",
        "\n",
        "# 1. Recopilación de datos (usando yfinance y ccxt)\n",
        "datos_yf = yf.download(criptomonedas, start=inicio, end=fin)\n",
        "exchange = ccxt.binance()  # Puedes cambiar a otro exchange si lo prefieres\n",
        "datos_ccxt = exchange.fetch_ohlcv('BTC/USDT', timeframe='1d', since=exchange.parse8601(inicio), limit=365)\n",
        "datos_ccxt = pd.DataFrame(datos_ccxt, columns=['timestamp', 'open', 'high', 'low', 'close', 'volume'])\n",
        "datos_ccxt['timestamp'] = pd.to_datetime(datos_ccxt['timestamp'], unit='ms')\n",
        "\n",
        "# 2. Análisis de datos (ejemplo simple: cálculo de la media móvil)\n",
        "datos_yf['MA_BTC'] = datos_yf['Close']['BTC-USD'].rolling(window=7).mean()  # Media móvil de 7 días para BTC\n",
        "datos_ccxt['MA_BTC'] = datos_ccxt['close'].rolling(window=7).mean()\n",
        "\n",
        "# 3. Visualización de datos (ejemplo simple: gráfico de precios y media móvil)\n",
        "plt.figure(figsize=(12, 6))\n",
        "plt.plot(datos_yf.index, datos_yf['Close']['BTC-USD'], label='Precio BTC (yfinance)')\n",
        "plt.plot(datos_yf.index, datos_yf['MA_BTC'], label='Media Móvil BTC (yfinance)')\n",
        "plt"
      ],
      "cell_type": "code",
      "metadata": {
        "id": "WZmrjYlrCGP5"
      },
      "execution_count": null,
      "outputs": []
    },
    {
      "source": [
        "!pip install yfinance==0.2.12\n",
        "import yfinance as yf\n",
        "\n",
        "# Define las criptomonedas que te interesan\n",
        "criptomonedas = ['BTC-USD', 'ETH-USD', 'XRP-USD']\n",
        "\n",
        "# Descarga los datos históricos\n",
        "datos = yf.download(criptomonedas, start='2023-01-01', end='2023-12-31')\n",
        "\n",
        "# Accede a los precios de cierre\n",
        "precios_cierre = datos['Close']\n",
        "\n",
        "# Imprime los precios de cierre\n",
        "print(precios_cierre)"
      ],
      "cell_type": "code",
      "metadata": {
        "id": "qEAn6UGKA5IG"
      },
      "execution_count": null,
      "outputs": []
    },
    {
      "source": [
        "!pip install yfinance==0.2.12\n",
        "!pip install ccxt==3.1.74\n",
        "import yfinance as yf\n",
        "import ccxt\n",
        "import pandas as pd\n",
        "import numpy as np\n",
        "import matplotlib.pyplot as plt\n",
        "\n",
        "\n",
        "# Define el alcance (criptomonedas y período de tiempo)\n",
        "criptomonedas = ['BTC-USD', 'ETH-USD', 'XRP-USD']\n",
        "inicio = '2023-01-01'\n",
        "fin = '2023-12-31'\n",
        "\n",
        "# 1. Recopilación de datos (usando yfinance y ccxt)\n",
        "datos_yf = yf.download(criptomonedas, start=inicio, end=fin)\n",
        "exchange = ccxt.binance()  # Puedes cambiar a otro exchange si lo prefieres\n",
        "datos_ccxt = exchange.fetch_ohlcv('BTC/USDT', timeframe='1d', since=exchange.parse8601(inicio), limit=365)\n",
        "datos_ccxt = pd.DataFrame(datos_ccxt, columns=['timestamp', 'open', 'high', 'low', 'close', 'volume'])\n",
        "datos_ccxt['timestamp'] = pd.to_datetime(datos_ccxt['timestamp'], unit='ms')\n",
        "\n",
        "# 2. Análisis de datos (ejemplo simple: cálculo de la media móvil)\n",
        "datos_yf['MA_BTC'] = datos_yf['Close']['BTC-USD'].rolling(window=7).mean()  # Media móvil de 7 días para BTC\n",
        "datos_ccxt['MA_BTC'] = datos_ccxt['close'].rolling(window=7).mean()\n",
        "\n",
        "# 3. Visualización de datos (ejemplo simple: gráfico de precios y media móvil)\n",
        "plt.figure(figsize=(12, 6))\n",
        "plt.plot(datos_yf.index, datos_yf['Close']['BTC-USD'], label='Precio BTC (yfinance)')\n",
        "plt.plot(datos_yf.index, datos_yf['MA_BTC'], label='Media Móvil BTC (yfinance)')\n",
        "plt"
      ],
      "cell_type": "code",
      "metadata": {
        "id": "PTX-FcmdA_NC"
      },
      "execution_count": null,
      "outputs": []
    },
    {
      "source": [
        "import numpy as np\n",
        "import pandas as pd\n"
      ],
      "cell_type": "code",
      "metadata": {
        "id": "t4b8wIXKljej"
      },
      "execution_count": null,
      "outputs": []
    },
    {
      "source": [
        "!pip install yfinance==0.2.12\n",
        "!pip install ccxt==3.1.74\n",
        "!pip install pandas\n",
        "!pip install numpy\n",
        "!pip install matplotlib"
      ],
      "cell_type": "code",
      "metadata": {
        "id": "Q8oiagt5EaN6"
      },
      "execution_count": null,
      "outputs": []
    },
    {
      "source": [
        "import yfinance as yf\n",
        "import ccxt\n",
        "import pandas as pd\n",
        "import numpy as np\n",
        "import matplotlib.pyplot as plt"
      ],
      "cell_type": "code",
      "metadata": {
        "id": "S5zAT_6iEdGI"
      },
      "execution_count": null,
      "outputs": []
    },
    {
      "source": [
        "# Define las criptomonedas y el período de tiempo que te interesan\n",
        "criptomonedas = ['BTC-USD', 'ETH-USD', 'XRP-USD']\n",
        "inicio = '2023-01-01'\n",
        "fin = '2023-12-31'"
      ],
      "cell_type": "code",
      "metadata": {
        "id": "AicDF__aEfF4"
      },
      "execution_count": null,
      "outputs": []
    },
    {
      "source": [
        "# Descarga datos históricos de precios usando yfinance\n",
        "datos_yf = yf.download(criptomonedas, start=inicio, end=fin)\n",
        "\n",
        "# Descarga datos históricos de precios y volumen usando ccxt\n",
        "exchange = ccxt.binance()  # Elige el exchange que prefieras\n",
        "datos_ccxt = exchange.fetch_ohlcv('BTC/USDT', timeframe='1d', since=exchange.parse8601(inicio), limit=365)  # Ajusta el timeframe y el límite según tus necesidades\n",
        "datos_ccxt = pd.DataFrame(datos_ccxt, columns=['timestamp', 'open', 'high', 'low', 'close', 'volume'])\n",
        "datos_ccxt['timestamp'] = pd.to_datetime(datos_ccxt['timestamp'], unit='ms')\n",
        "datos_ccxt.set_index('timestamp', inplace=True)"
      ],
      "cell_type": "code",
      "metadata": {
        "id": "3EbGcMkmEksy",
        "colab": {
          "base_uri": "https://localhost:8080/",
          "height": 468
        },
        "outputId": "388813b7-16d1-486b-a092-a7b429317aac"
      },
      "execution_count": 2,
      "outputs": [
        {
          "output_type": "error",
          "ename": "NameError",
          "evalue": "name 'yf' is not defined",
          "traceback": [
            "\u001b[0;31m---------------------------------------------------------------------------\u001b[0m",
            "\u001b[0;31mNameError\u001b[0m                                 Traceback (most recent call last)",
            "\u001b[0;32m<ipython-input-2-fe438d03fb2b>\u001b[0m in \u001b[0;36m<cell line: 2>\u001b[0;34m()\u001b[0m\n\u001b[1;32m      1\u001b[0m \u001b[0;31m# Descarga datos históricos de precios usando yfinance\u001b[0m\u001b[0;34m\u001b[0m\u001b[0;34m\u001b[0m\u001b[0m\n\u001b[0;32m----> 2\u001b[0;31m \u001b[0mdatos_yf\u001b[0m \u001b[0;34m=\u001b[0m \u001b[0myf\u001b[0m\u001b[0;34m.\u001b[0m\u001b[0mdownload\u001b[0m\u001b[0;34m(\u001b[0m\u001b[0mcriptomonedas\u001b[0m\u001b[0;34m,\u001b[0m \u001b[0mstart\u001b[0m\u001b[0;34m=\u001b[0m\u001b[0minicio\u001b[0m\u001b[0;34m,\u001b[0m \u001b[0mend\u001b[0m\u001b[0;34m=\u001b[0m\u001b[0mfin\u001b[0m\u001b[0;34m)\u001b[0m\u001b[0;34m\u001b[0m\u001b[0;34m\u001b[0m\u001b[0m\n\u001b[0m\u001b[1;32m      3\u001b[0m \u001b[0;34m\u001b[0m\u001b[0m\n\u001b[1;32m      4\u001b[0m \u001b[0;31m# Descarga datos históricos de precios y volumen usando ccxt\u001b[0m\u001b[0;34m\u001b[0m\u001b[0;34m\u001b[0m\u001b[0m\n\u001b[1;32m      5\u001b[0m \u001b[0mexchange\u001b[0m \u001b[0;34m=\u001b[0m \u001b[0mccxt\u001b[0m\u001b[0;34m.\u001b[0m\u001b[0mbinance\u001b[0m\u001b[0;34m(\u001b[0m\u001b[0;34m)\u001b[0m  \u001b[0;31m# Elige el exchange que prefieras\u001b[0m\u001b[0;34m\u001b[0m\u001b[0;34m\u001b[0m\u001b[0m\n",
            "\u001b[0;31mNameError\u001b[0m: name 'yf' is not defined"
          ]
        }
      ]
    },
    {
      "source": [
        "# Calcula la media móvil de 7 días para el precio de cierre de BTC (usando datos de yfinance)\n",
        "datos_yf['MA_BTC'] = datos_yf['Close']['BTC-USD'].rolling(window=7).mean()\n",
        "\n",
        "# Calcula la media móvil de 7 días para el precio de cierre de BTC (usando datos de ccxt)\n",
        "datos_ccxt['MA_BTC'] = datos_ccxt['close'].rolling(window=7).mean()\n",
        "\n",
        "# Puedes agregar más análisis aquí, como calcular la volatilidad, correlaciones, etc."
      ],
      "cell_type": "code",
      "metadata": {
        "id": "mZ18YLeIEors",
        "colab": {
          "base_uri": "https://localhost:8080/",
          "height": 497
        },
        "outputId": "bc407483-f4a9-4182-f93d-99641eb6bc8f"
      },
      "execution_count": 1,
      "outputs": [
        {
          "output_type": "error",
          "ename": "NameError",
          "evalue": "name 'datos_yf' is not defined",
          "traceback": [
            "\u001b[0;31m---------------------------------------------------------------------------\u001b[0m",
            "\u001b[0;31mNameError\u001b[0m                                 Traceback (most recent call last)",
            "\u001b[0;32m<ipython-input-1-3d0c4310a5c5>\u001b[0m in \u001b[0;36m<cell line: 2>\u001b[0;34m()\u001b[0m\n\u001b[1;32m      1\u001b[0m \u001b[0;31m# Calcula la media móvil de 7 días para el precio de cierre de BTC (usando datos de yfinance)\u001b[0m\u001b[0;34m\u001b[0m\u001b[0;34m\u001b[0m\u001b[0m\n\u001b[0;32m----> 2\u001b[0;31m \u001b[0mdatos_yf\u001b[0m\u001b[0;34m[\u001b[0m\u001b[0;34m'MA_BTC'\u001b[0m\u001b[0;34m]\u001b[0m \u001b[0;34m=\u001b[0m \u001b[0mdatos_yf\u001b[0m\u001b[0;34m[\u001b[0m\u001b[0;34m'Close'\u001b[0m\u001b[0;34m]\u001b[0m\u001b[0;34m[\u001b[0m\u001b[0;34m'BTC-USD'\u001b[0m\u001b[0;34m]\u001b[0m\u001b[0;34m.\u001b[0m\u001b[0mrolling\u001b[0m\u001b[0;34m(\u001b[0m\u001b[0mwindow\u001b[0m\u001b[0;34m=\u001b[0m\u001b[0;36m7\u001b[0m\u001b[0;34m)\u001b[0m\u001b[0;34m.\u001b[0m\u001b[0mmean\u001b[0m\u001b[0;34m(\u001b[0m\u001b[0;34m)\u001b[0m\u001b[0;34m\u001b[0m\u001b[0;34m\u001b[0m\u001b[0m\n\u001b[0m\u001b[1;32m      3\u001b[0m \u001b[0;34m\u001b[0m\u001b[0m\n\u001b[1;32m      4\u001b[0m \u001b[0;31m# Calcula la media móvil de 7 días para el precio de cierre de BTC (usando datos de ccxt)\u001b[0m\u001b[0;34m\u001b[0m\u001b[0;34m\u001b[0m\u001b[0m\n\u001b[1;32m      5\u001b[0m \u001b[0mdatos_ccxt\u001b[0m\u001b[0;34m[\u001b[0m\u001b[0;34m'MA_BTC'\u001b[0m\u001b[0;34m]\u001b[0m \u001b[0;34m=\u001b[0m \u001b[0mdatos_ccxt\u001b[0m\u001b[0;34m[\u001b[0m\u001b[0;34m'close'\u001b[0m\u001b[0;34m]\u001b[0m\u001b[0;34m.\u001b[0m\u001b[0mrolling\u001b[0m\u001b[0;34m(\u001b[0m\u001b[0mwindow\u001b[0m\u001b[0;34m=\u001b[0m\u001b[0;36m7\u001b[0m\u001b[0;34m)\u001b[0m\u001b[0;34m.\u001b[0m\u001b[0mmean\u001b[0m\u001b[0;34m(\u001b[0m\u001b[0;34m)\u001b[0m\u001b[0;34m\u001b[0m\u001b[0;34m\u001b[0m\u001b[0m\n",
            "\u001b[0;31mNameError\u001b[0m: name 'datos_yf' is not defined"
          ]
        }
      ]
    },
    {
      "source": [
        "importimport# Crea un gráfico de precios y media móvil para BTC (usando datos de yfinance)\n",
        "plt.figure(figsize=(12, 6))\n",
        "plt.plot(datos_yf.index, datos_yf['Close']['BTC-USD'], label='Precio BTC (yfinance)')\n",
        "plt.plot(datos_yf.index, datos_yf['MA_BTC'], label='Media Móvil BTC (yfinance)')\n",
        "plt.xlabel('Fecha')\n",
        "plt.ylabel('Precio (USD)')\n",
        "plt.title('Precio de Bitcoin y Media Móvil (yfinance)')\n",
        "plt.legend()\n",
        "plt.grid(True)\n",
        "plt.show()\n",
        "\n",
        "# Crea un gráfico de precios y media móvil para BTC (usando datos de ccxt)\n",
        "plt.figure(figsize=(12, 6))\n",
        "plt.plot(datos_ccxt.index, datos_ccxt['close'], label='Precio BTC (ccxt)')\n",
        "plt.plot(datos_ccxt.index, datos_ccxt['MA_BTC'], label='Media Móvil BTC (ccxt)')\n",
        "plt.xlabel('Fecha')\n",
        "plt.ylabel('Precio (USD)')\n",
        "plt.title('Precio de Bitcoin y Media Móvil (ccxt)')\n",
        "plt.legend()\n",
        "plt.grid(True)\n",
        "plt.show()\n",
        "\n",
        "# Puedes agregar más visualizaciones aquí, como gráficos de velas, histogramas, etc."
      ],
      "cell_type": "code",
      "metadata": {
        "id": "sTKbv-WlEsf3"
      },
      "execution_count": null,
      "outputs": []
    },
    {
      "source": [
        "importimportimportimport yfinance as yf\n",
        "import ccxt\n",
        "import pandas as pd\n",
        "import numpy as np\n",
        "import matplotlib.pyplot as plt"
      ],
      "cell_type": "code",
      "metadata": {
        "id": "MEZiDD2ZEJ-u"
      },
      "execution_count": null,
      "outputs": []
    },
    {
      "source": [
        "import ast\n",
        "\n",
        "def analizar_codigo(codigo_fuente):\n",
        "    \"\"\"Analiza el código fuente y extrae información.\"\"\"\n",
        "    arbol = ast.parse(codigo_fuente)\n",
        "    # ... lógica para recorrer el árbol y extraer información ...\n",
        "    return informacion_extraida\n",
        "\n",
        "    \"\"\"Analiza el código fuente y extrae información.\"\"\"\n",
        "    arbol = ast.parse(codigo_fuente)\n",
        "    # ... lógica para recorrer el árbol y extraer información ...\n",
        "    return informacion_extraida"
      ],
      "cell_type": "code",
      "metadata": {
        "id": "ouMLtrAe9V0B"
      },
      "execution_count": null,
      "outputs": []
    },
    {
      "source": [
        "!apt-get install -y tcpdump\n",
        "!tcpdump -i any -w captura.pcap"
      ],
      "cell_type": "code",
      "metadata": {
        "id": "tfInQ_8BFStM",
        "colab": {
          "base_uri": "https://localhost:8080/"
        },
        "outputId": "43f9fb3c-362c-420e-ed9c-c268a989b8ef"
      },
      "execution_count": null,
      "outputs": [
        {
          "metadata": {
            "tags": null
          },
          "name": "stdout",
          "output_type": "stream",
          "text": [
            "Reading package lists... Done\n",
            "Building dependency tree... Done\n",
            "Reading state information... Done\n",
            "The following additional packages will be installed:\n",
            "  libpcap0.8\n",
            "Suggested packages:\n",
            "  apparmor\n",
            "The following NEW packages will be installed:\n",
            "  libpcap0.8 tcpdump\n",
            "0 upgraded, 2 newly installed, 0 to remove and 49 not upgraded.\n",
            "Need to get 647 kB of archives.\n",
            "After this operation, 1,773 kB of additional disk space will be used.\n",
            "Get:1 http://archive.ubuntu.com/ubuntu jammy-updates/main amd64 libpcap0.8 amd64 1.10.1-4ubuntu1.22.04.1 [145 kB]\n",
            "Get:2 http://archive.ubuntu.com/ubuntu jammy-updates/main amd64 tcpdump amd64 4.99.1-3ubuntu0.2 [501 kB]\n",
            "Fetched 647 kB in 1s (819 kB/s)\n",
            "Selecting previously unselected package libpcap0.8:amd64.\n",
            "(Reading database ... 123629 files and directories currently installed.)\n",
            "Preparing to unpack .../libpcap0.8_1.10.1-4ubuntu1.22.04.1_amd64.deb ...\n",
            "Unpacking libpcap0.8:amd64 (1.10.1-4ubuntu1.22.04.1) ...\n",
            "Selecting previously unselected package tcpdump.\n",
            "Preparing to unpack .../tcpdump_4.99.1-3ubuntu0.2_amd64.deb ...\n",
            "Unpacking tcpdump (4.99.1-3ubuntu0.2) ...\n",
            "Setting up libpcap0.8:amd64 (1.10.1-4ubuntu1.22.04.1) ...\n",
            "Setting up tcpdump (4.99.1-3ubuntu0.2) ...\n",
            "Processing triggers for man-db (2.10.2-1) ...\n",
            "Processing triggers for libc-bin (2.35-0ubuntu3.4) ...\n",
            "/sbin/ldconfig.real: /usr/local/lib/libtbbbind_2_5.so.3 is not a symbolic link\n",
            "\n",
            "/sbin/ldconfig.real: /usr/local/lib/libur_adapter_opencl.so.0 is not a symbolic link\n",
            "\n",
            "/sbin/ldconfig.real: /usr/local/lib/libur_adapter_level_zero.so.0 is not a symbolic link\n",
            "\n",
            "/sbin/ldconfig.real: /usr/local/lib/libtbbbind_2_0.so.3 is not a symbolic link\n",
            "\n",
            "/sbin/ldconfig.real: /usr/local/lib/libtbbmalloc.so.2 is not a symbolic link\n",
            "\n",
            "/sbin/ldconfig.real: /usr/local/lib/libtbbmalloc_proxy.so.2 is not a symbolic link\n",
            "\n",
            "/sbin/ldconfig.real: /usr/local/lib/libtbb.so.12 is not a symbolic link\n",
            "\n",
            "/sbin/ldconfig.real: /usr/local/lib/libtbbbind.so.3 is not a symbolic link\n",
            "\n",
            "/sbin/ldconfig.real: /usr/local/lib/libur_loader.so.0 is not a symbolic link\n",
            "\n",
            "tcpdump: data link type LINUX_SLL2\n",
            "tcpdump: listening on any, link-type LINUX_SLL2 (Linux cooked v2), snapshot length 262144 bytes\n"
          ]
        }
      ]
    },
    {
      "source": [
        "!apt-get install -y tcpdump\n",
        "!tcpdump -i any -w captura.pcap"
      ],
      "cell_type": "code",
      "metadata": {
        "id": "NRIYV8E-b_NN"
      },
      "execution_count": null,
      "outputs": []
    },
    {
      "source": [
        "!apt-get install -y tshark graphviz\n",
        "!tshark -r captura.pcap -T fields -e ip.src -e ip.dst -e tcp.port | awk '{print $1 \" -> \" $2 \" [label=\\\"\" $3 \"\\\"];\"}' > conexiones.dot"
      ],
      "cell_type": "code",
      "metadata": {
        "id": "3Vp779t_cFkd"
      },
      "execution_count": null,
      "outputs": []
    },
    {
      "source": [
        "!apt-get install -y tshark graphviz\n",
        "!tshark -r captura.pcap -T fields -e ip.src -e ip.dst -e tcp.port | awk '{print $1 \" -> \" $2 \" [label=\\\"\" $3 \"\\\"];\"}' > conexiones.dot"
      ],
      "cell_type": "code",
      "metadata": {
        "id": "_s1-MByScG-3"
      },
      "execution_count": null,
      "outputs": []
    },
    {
      "source": [
        "!apt-get install -y tcpdump graphviz\n",
        "!tcpdump -i any -w captura.pcap\n",
        "!tshark -r captura.pcap -T fields -e ip.src -e ip.dst -e tcp.port | awk '{print $1 \" -> \" $2 \" [label=\\\"\" $3 \"\\\"];\"}' > conexiones.dot\n",
        "!pip install pydot\n",
        "import pydot\n",
        "graph = pydot.graph_from_dot_file(\"conexiones.dot\")\n",
        "for edge in graph.get_edges(): no\n",
        "  ip_src = edge.get_source()\n",
        "  ip_dst = edge.get_destination()\n",
        "  puerto = edge.get_label().strip('\"')\n",
        "  print(f\"Conexión desde {ip_src} hacia {ip_dst} en el puerto {puerto}\")"
      ],
      "cell_type": "code",
      "metadata": {
        "id": "ihgznxnKcfnW"
      },
      "execution_count": null,
      "outputs": []
    },
    {
      "source": [
        "!apt-get install -y tshark graphviz\n",
        "!tshark -i any -w captura.pcap\n",
        "!tshark -r captura.pcap -T fields -e ip.src -e ip.dst -e tcp.port | awk '{print $1 \" -> \" $2 \" [label=\\\"\" $3 \"\\\"];\"}' > conexiones.dot\n",
        "!pip install pydot\n",
        "import pydot\n",
        "graph = pydot.graph_from_dot_file(\"conexiones.dot\")\n",
        "for edge in graph.get_edges():\n",
        "  ip_src = edge.get_source()\n",
        "  ip_dst = edge.get_destination()\n",
        "  puerto = edge.get_label().strip('\"')\n",
        "  print(f\"Conexión desde {ip_src} hacia {ip_dst} en el puerto {puerto}\")"
      ],
      "cell_type": "code",
      "metadata": {
        "id": "cw_sb0lKdAbW"
      },
      "execution_count": null,
      "outputs": []
    },
    {
      "source": [
        "!pip install pydot\n",
        "import pydot\n",
        "\n",
        "graph = pydot.graph_from_dot_file(\"conexiones.dot\")\n",
        "for edge in graph[0].get_edges():\n",
        "  ip_src = edge.get_source()\n",
        "  ip_dst = edge.get_destination()\n",
        "  puerto = edge.get_label().strip('\"')  # Extraer el puerto sin comillas\n",
        "  print(f\"Conexión desde {ip_src} hacia {ip_dst} en el puerto {puerto}\")"
      ],
      "cell_type": "code",
      "metadata": {
        "id": "QW5-7N_CcOhX"
      },
      "execution_count": null,
      "outputs": []
    },
    {
      "source": [
        "!apt-get install -y tcpdump graphviz\n",
        "!tcpdump -i any -w captura.pcap\n",
        "!tshark -r captura.pcap -T fields -e ip.src -e ip.dst -e tcp.port | awk '{print $1 \" -> \" $2 \" [label=\\\"\" $3 \"\\\"];\"}' > conexiones.dot\n",
        "!pip install pydot\n",
        "import pydot\n",
        "graph = pydot.graph_from_dot_file(\"conexiones.dot\")\n",
        "for edge in graph.get_edges():\n",
        "  ip_src = edge.get_source()\n",
        "  ip_dst = edge.get_destination()\n",
        "  puerto = edge.get_label().strip('\"')\n",
        "  print(f\"Conexión desde {ip_src} hacia {ip_dst} en el puerto {puerto}\")"
      ],
      "cell_type": "code",
      "metadata": {
        "id": "uk6932CoGxB9"
      },
      "execution_count": null,
      "outputs": []
    },
    {
      "source": [
        "!apt-get install -y tshark graphviz\n",
        "!tshark -i any -w captura.pcap\n",
        "!tshark -r captura.pcap -T fields -e ip.src -e ip.dst -e tcp.port | awk '{print $1 \" -> \" $2 \" [label=\\\"\" $3 \"\\\"];\"}' > conexiones.dot\n",
        "!pip install pydot\n",
        "import pydot\n",
        "graph = pydot.graph_from_dot_file(\"conexiones.dot\")\n",
        "for edge in graph.get_edges():\n",
        "  ip_src = edge.get_source()\n",
        "  ip_dst = edge.get_destination()\n",
        "  puerto = edge.get_label().strip('\"')\n",
        "  print(f\"Conexión desde {ip_src} hacia {ip_dst} en el puerto {puerto}\")"
      ],
      "cell_type": "code",
      "metadata": {
        "id": "80j5FX9IIUN1"
      },
      "execution_count": null,
      "outputs": []
    },
    {
      "source": [
        "!apt-get install -y tcpdump\n",
        "!tcpdump -i any -w captura.pcap"
      ],
      "cell_type": "code",
      "metadata": {
        "id": "MjLEN59sFW03"
      },
      "execution_count": null,
      "outputs": []
    },
    {
      "source": [
        "# Install Graphviz and pydot, pydotplus for better compatibility\n",
        "!apt-get -qq install -y graphviz && pip install pydot pydotplus\n",
        "import pydot"
      ],
      "cell_type": "code",
      "metadata": {
        "id": "VpCbpuVbG4Qo"
      },
      "execution_count": null,
      "outputs": []
    },
    {
      "source": [
        "Dirección IP de la interfaz Wi-Fi: 192.168.1.100"
      ],
      "cell_type": "code",
      "metadata": {
        "id": "6P-Kaw5mBUun"
      },
      "execution_count": null,
      "outputs": []
    }
  ],
  "metadata": {
    "colab": {
      "provenance": [],
      "gpuType": "T4",
      "include_colab_link": true
    },
    "kernelspec": {
      "display_name": "Python 3",
      "name": "python3"
    },
    "accelerator": "GPU"
  },
  "nbformat": 4,
  "nbformat_minor": 0
}